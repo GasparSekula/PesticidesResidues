{
 "cells": [
  {
   "cell_type": "markdown",
   "id": "f6122acf",
   "metadata": {},
   "source": [
    "# **Analysis**\n",
    "Hypotheses 3 - 4"
   ]
  },
  {
   "cell_type": "markdown",
   "id": "7d068250",
   "metadata": {},
   "source": [
    "### Imports"
   ]
  },
  {
   "cell_type": "code",
   "execution_count": 52,
   "id": "868b329f",
   "metadata": {},
   "outputs": [],
   "source": [
    "import sys\n",
    "import os\n",
    "sys.path.append(os.path.abspath('..'))\n",
    "\n",
    "import numpy as np\n",
    "import seaborn as sns\n",
    "import matplotlib.pyplot as plt\n",
    "import pandas as pd\n",
    "\n",
    "from src.aggregator import DataAggregator\n",
    "from src.visualization import plot_map\n",
    "\n",
    "from sklearn.linear_model import LinearRegression\n",
    "from matplotlib.colors import LinearSegmentedColormap\n"
   ]
  },
  {
   "cell_type": "code",
   "execution_count": 2,
   "id": "fd052b1a",
   "metadata": {},
   "outputs": [],
   "source": [
    "country_list = [\n",
    "    \"AT\", \"CY\", \"CZ\", \"DE\", \"DK\", \"ES\", \"FR\", \"GR\", \"IE\", \"LU\",\n",
    "    \"LV\", \"MT\", \"NO\", \"PL\", \"RO\", \"SE\", \"SI\", \"SK\", \"IT\", \"NL\", \"FI\"\n",
    "]\n",
    "\n",
    "new_country_list = [\n",
    "    \"BE\", \"BA\", \"BG\", \"HR\", \"EE\", \"HU\", \"PT\", \"GB\", \"LT\", \"IS\", \"ME\", \"XI\", \"MK\"\n",
    "]\n",
    "\n",
    "full_country_list = country_list + new_country_list\n",
    "\n",
    "year_list = list(range(2011, 2024))\n",
    "\n",
    "exception_list = [\n",
    "    (\"BA\", 2011), (\"BA\", 2012), (\"BA\", 2013), (\"BA\", 2014), (\"BA\", 2015), (\"BA\", 2016), \n",
    "    (\"HR\", 2011), (\"HR\", 2012), (\"HR\", 2013),    \n",
    "    (\"GB\", 2021), (\"GB\", 2022), (\"GB\", 2023),    \n",
    "    (\"ME\", 2011), (\"ME\", 2012), (\"ME\", 2013), (\"ME\", 2014), (\"ME\", 2015), (\"ME\", 2016), \n",
    "    (\"XI\", 2011), (\"XI\", 2012), (\"XI\", 2013), (\"XI\", 2014), (\"XI\", 2015), (\"XI\", 2016), \n",
    "    (\"XI\", 2017), (\"XI\", 2018), (\"XI\", 2019), (\"XI\", 2020),\n",
    "    (\"MK\", 2011), (\"MK\", 2012), (\"MK\", 2013), (\"MK\", 2014), (\"MK\", 2015), (\"MK\", 2016), \n",
    "    \n",
    "]"
   ]
  },
  {
   "cell_type": "markdown",
   "id": "2e194bf7",
   "metadata": {},
   "source": [
    "Aggregator instance"
   ]
  },
  {
   "cell_type": "code",
   "execution_count": 3,
   "id": "1689b444",
   "metadata": {},
   "outputs": [],
   "source": [
    "aggregator = DataAggregator(data_dir=\"../data/merged/final_dataset.pkl\",\n",
    "                            milk_dir=\"../data/merged/milk_3.pkl\",\n",
    "                            butter_dir=\"../data/merged/butter_3.pkl\")"
   ]
  },
  {
   "cell_type": "markdown",
   "id": "79d68a5c",
   "metadata": {},
   "source": [
    "### **3. Sample size vs. detection count**"
   ]
  },
  {
   "cell_type": "markdown",
   "id": "51ad7759",
   "metadata": {},
   "source": [
    "#### Mandatory programmes"
   ]
  },
  {
   "cell_type": "code",
   "execution_count": 4,
   "id": "f40def31",
   "metadata": {},
   "outputs": [
    {
     "data": {
      "text/html": [
       "<div>\n",
       "<style scoped>\n",
       "    .dataframe tbody tr th:only-of-type {\n",
       "        vertical-align: middle;\n",
       "    }\n",
       "\n",
       "    .dataframe tbody tr th {\n",
       "        vertical-align: top;\n",
       "    }\n",
       "\n",
       "    .dataframe thead th {\n",
       "        text-align: right;\n",
       "    }\n",
       "</style>\n",
       "<table border=\"1\" class=\"dataframe\">\n",
       "  <thead>\n",
       "    <tr style=\"text-align: right;\">\n",
       "      <th></th>\n",
       "      <th>sampCountry</th>\n",
       "      <th>year</th>\n",
       "      <th>samples_count</th>\n",
       "      <th>pesticides_samples_count</th>\n",
       "    </tr>\n",
       "  </thead>\n",
       "  <tbody>\n",
       "    <tr>\n",
       "      <th>0</th>\n",
       "      <td>AT</td>\n",
       "      <td>2011</td>\n",
       "      <td>282</td>\n",
       "      <td>2</td>\n",
       "    </tr>\n",
       "    <tr>\n",
       "      <th>1</th>\n",
       "      <td>AT</td>\n",
       "      <td>2012</td>\n",
       "      <td>300</td>\n",
       "      <td>3</td>\n",
       "    </tr>\n",
       "    <tr>\n",
       "      <th>2</th>\n",
       "      <td>AT</td>\n",
       "      <td>2013</td>\n",
       "      <td>297</td>\n",
       "      <td>0</td>\n",
       "    </tr>\n",
       "    <tr>\n",
       "      <th>3</th>\n",
       "      <td>AT</td>\n",
       "      <td>2014</td>\n",
       "      <td>301</td>\n",
       "      <td>2</td>\n",
       "    </tr>\n",
       "    <tr>\n",
       "      <th>4</th>\n",
       "      <td>AT</td>\n",
       "      <td>2015</td>\n",
       "      <td>438</td>\n",
       "      <td>16</td>\n",
       "    </tr>\n",
       "    <tr>\n",
       "      <th>5</th>\n",
       "      <td>AT</td>\n",
       "      <td>2016</td>\n",
       "      <td>128</td>\n",
       "      <td>0</td>\n",
       "    </tr>\n",
       "    <tr>\n",
       "      <th>6</th>\n",
       "      <td>AT</td>\n",
       "      <td>2017</td>\n",
       "      <td>3</td>\n",
       "      <td>0</td>\n",
       "    </tr>\n",
       "    <tr>\n",
       "      <th>7</th>\n",
       "      <td>AT</td>\n",
       "      <td>2018</td>\n",
       "      <td>1</td>\n",
       "      <td>0</td>\n",
       "    </tr>\n",
       "    <tr>\n",
       "      <th>8</th>\n",
       "      <td>AT</td>\n",
       "      <td>2019</td>\n",
       "      <td>32</td>\n",
       "      <td>0</td>\n",
       "    </tr>\n",
       "    <tr>\n",
       "      <th>9</th>\n",
       "      <td>AT</td>\n",
       "      <td>2022</td>\n",
       "      <td>10</td>\n",
       "      <td>10</td>\n",
       "    </tr>\n",
       "  </tbody>\n",
       "</table>\n",
       "</div>"
      ],
      "text/plain": [
       "  sampCountry  year  samples_count  pesticides_samples_count\n",
       "0          AT  2011            282                         2\n",
       "1          AT  2012            300                         3\n",
       "2          AT  2013            297                         0\n",
       "3          AT  2014            301                         2\n",
       "4          AT  2015            438                        16\n",
       "5          AT  2016            128                         0\n",
       "6          AT  2017              3                         0\n",
       "7          AT  2018              1                         0\n",
       "8          AT  2019             32                         0\n",
       "9          AT  2022             10                        10"
      ]
     },
     "execution_count": 4,
     "metadata": {},
     "output_type": "execute_result"
    }
   ],
   "source": [
    "df3 = aggregator.pesticides_sampling_relation(year_list=year_list, country_list=country_list, \n",
    "                                              product='both', programme='both')\n",
    "df3.to_csv('../results/results/3_samples_detected_relation.csv')\n",
    "df3.head(10)"
   ]
  },
  {
   "cell_type": "code",
   "execution_count": 5,
   "id": "69680d82",
   "metadata": {},
   "outputs": [
    {
     "data": {
      "text/html": [
       "<div>\n",
       "<style scoped>\n",
       "    .dataframe tbody tr th:only-of-type {\n",
       "        vertical-align: middle;\n",
       "    }\n",
       "\n",
       "    .dataframe tbody tr th {\n",
       "        vertical-align: top;\n",
       "    }\n",
       "\n",
       "    .dataframe thead th {\n",
       "        text-align: right;\n",
       "    }\n",
       "</style>\n",
       "<table border=\"1\" class=\"dataframe\">\n",
       "  <thead>\n",
       "    <tr style=\"text-align: right;\">\n",
       "      <th></th>\n",
       "      <th>sampCountry</th>\n",
       "      <th>year</th>\n",
       "      <th>samples_count</th>\n",
       "      <th>pesticides_samples_count</th>\n",
       "    </tr>\n",
       "  </thead>\n",
       "  <tbody>\n",
       "    <tr>\n",
       "      <th>0</th>\n",
       "      <td>AT</td>\n",
       "      <td>2013</td>\n",
       "      <td>9</td>\n",
       "      <td>0</td>\n",
       "    </tr>\n",
       "    <tr>\n",
       "      <th>1</th>\n",
       "      <td>AT</td>\n",
       "      <td>2016</td>\n",
       "      <td>15</td>\n",
       "      <td>0</td>\n",
       "    </tr>\n",
       "    <tr>\n",
       "      <th>2</th>\n",
       "      <td>AT</td>\n",
       "      <td>2019</td>\n",
       "      <td>32</td>\n",
       "      <td>0</td>\n",
       "    </tr>\n",
       "    <tr>\n",
       "      <th>3</th>\n",
       "      <td>AT</td>\n",
       "      <td>2022</td>\n",
       "      <td>10</td>\n",
       "      <td>10</td>\n",
       "    </tr>\n",
       "    <tr>\n",
       "      <th>4</th>\n",
       "      <td>CY</td>\n",
       "      <td>2013</td>\n",
       "      <td>15</td>\n",
       "      <td>1</td>\n",
       "    </tr>\n",
       "    <tr>\n",
       "      <th>5</th>\n",
       "      <td>CY</td>\n",
       "      <td>2016</td>\n",
       "      <td>15</td>\n",
       "      <td>1</td>\n",
       "    </tr>\n",
       "    <tr>\n",
       "      <th>6</th>\n",
       "      <td>CY</td>\n",
       "      <td>2019</td>\n",
       "      <td>12</td>\n",
       "      <td>0</td>\n",
       "    </tr>\n",
       "    <tr>\n",
       "      <th>7</th>\n",
       "      <td>CY</td>\n",
       "      <td>2022</td>\n",
       "      <td>12</td>\n",
       "      <td>0</td>\n",
       "    </tr>\n",
       "    <tr>\n",
       "      <th>8</th>\n",
       "      <td>CZ</td>\n",
       "      <td>2013</td>\n",
       "      <td>16</td>\n",
       "      <td>0</td>\n",
       "    </tr>\n",
       "    <tr>\n",
       "      <th>9</th>\n",
       "      <td>CZ</td>\n",
       "      <td>2016</td>\n",
       "      <td>15</td>\n",
       "      <td>0</td>\n",
       "    </tr>\n",
       "  </tbody>\n",
       "</table>\n",
       "</div>"
      ],
      "text/plain": [
       "  sampCountry  year  samples_count  pesticides_samples_count\n",
       "0          AT  2013              9                         0\n",
       "1          AT  2016             15                         0\n",
       "2          AT  2019             32                         0\n",
       "3          AT  2022             10                        10\n",
       "4          CY  2013             15                         1\n",
       "5          CY  2016             15                         1\n",
       "6          CY  2019             12                         0\n",
       "7          CY  2022             12                         0\n",
       "8          CZ  2013             16                         0\n",
       "9          CZ  2016             15                         0"
      ]
     },
     "execution_count": 5,
     "metadata": {},
     "output_type": "execute_result"
    }
   ],
   "source": [
    "df3_m = aggregator.pesticides_sampling_relation(year_list=year_list, country_list=country_list, \n",
    "                                                product='milk', programme='obligatory')\n",
    "df3_m.to_csv('../results/results/3_samples_detected_relation_milk.csv')\n",
    "df3_m.head(10)"
   ]
  },
  {
   "cell_type": "code",
   "execution_count": 6,
   "id": "f97bf518",
   "metadata": {},
   "outputs": [
    {
     "data": {
      "text/html": [
       "<div>\n",
       "<style scoped>\n",
       "    .dataframe tbody tr th:only-of-type {\n",
       "        vertical-align: middle;\n",
       "    }\n",
       "\n",
       "    .dataframe tbody tr th {\n",
       "        vertical-align: top;\n",
       "    }\n",
       "\n",
       "    .dataframe thead th {\n",
       "        text-align: right;\n",
       "    }\n",
       "</style>\n",
       "<table border=\"1\" class=\"dataframe\">\n",
       "  <thead>\n",
       "    <tr style=\"text-align: right;\">\n",
       "      <th></th>\n",
       "      <th>sampCountry</th>\n",
       "      <th>year</th>\n",
       "      <th>samples_count</th>\n",
       "      <th>pesticides_samples_count</th>\n",
       "    </tr>\n",
       "  </thead>\n",
       "  <tbody>\n",
       "    <tr>\n",
       "      <th>0</th>\n",
       "      <td>AT</td>\n",
       "      <td>2012</td>\n",
       "      <td>15</td>\n",
       "      <td>2</td>\n",
       "    </tr>\n",
       "    <tr>\n",
       "      <th>1</th>\n",
       "      <td>AT</td>\n",
       "      <td>2015</td>\n",
       "      <td>15</td>\n",
       "      <td>0</td>\n",
       "    </tr>\n",
       "    <tr>\n",
       "      <th>2</th>\n",
       "      <td>CY</td>\n",
       "      <td>2012</td>\n",
       "      <td>15</td>\n",
       "      <td>0</td>\n",
       "    </tr>\n",
       "    <tr>\n",
       "      <th>3</th>\n",
       "      <td>CY</td>\n",
       "      <td>2015</td>\n",
       "      <td>15</td>\n",
       "      <td>3</td>\n",
       "    </tr>\n",
       "    <tr>\n",
       "      <th>4</th>\n",
       "      <td>CZ</td>\n",
       "      <td>2012</td>\n",
       "      <td>18</td>\n",
       "      <td>18</td>\n",
       "    </tr>\n",
       "    <tr>\n",
       "      <th>5</th>\n",
       "      <td>CZ</td>\n",
       "      <td>2015</td>\n",
       "      <td>20</td>\n",
       "      <td>18</td>\n",
       "    </tr>\n",
       "    <tr>\n",
       "      <th>6</th>\n",
       "      <td>DE</td>\n",
       "      <td>2012</td>\n",
       "      <td>110</td>\n",
       "      <td>55</td>\n",
       "    </tr>\n",
       "    <tr>\n",
       "      <th>7</th>\n",
       "      <td>DE</td>\n",
       "      <td>2015</td>\n",
       "      <td>113</td>\n",
       "      <td>43</td>\n",
       "    </tr>\n",
       "    <tr>\n",
       "      <th>8</th>\n",
       "      <td>DK</td>\n",
       "      <td>2012</td>\n",
       "      <td>8</td>\n",
       "      <td>0</td>\n",
       "    </tr>\n",
       "    <tr>\n",
       "      <th>9</th>\n",
       "      <td>DK</td>\n",
       "      <td>2015</td>\n",
       "      <td>6</td>\n",
       "      <td>0</td>\n",
       "    </tr>\n",
       "  </tbody>\n",
       "</table>\n",
       "</div>"
      ],
      "text/plain": [
       "  sampCountry  year  samples_count  pesticides_samples_count\n",
       "0          AT  2012             15                         2\n",
       "1          AT  2015             15                         0\n",
       "2          CY  2012             15                         0\n",
       "3          CY  2015             15                         3\n",
       "4          CZ  2012             18                        18\n",
       "5          CZ  2015             20                        18\n",
       "6          DE  2012            110                        55\n",
       "7          DE  2015            113                        43\n",
       "8          DK  2012              8                         0\n",
       "9          DK  2015              6                         0"
      ]
     },
     "execution_count": 6,
     "metadata": {},
     "output_type": "execute_result"
    }
   ],
   "source": [
    "df3_b = aggregator.pesticides_sampling_relation(year_list=year_list, country_list=country_list, \n",
    "                                                product='butter', programme='obligatory')\n",
    "df3_b.to_csv('../results/results/3_samples_detected_relation_butter.csv')\n",
    "df3_b.head(10)"
   ]
  },
  {
   "cell_type": "code",
   "execution_count": 13,
   "id": "3724d7f5",
   "metadata": {},
   "outputs": [
    {
     "data": {
      "text/plain": [
       "<matplotlib.legend.Legend at 0x309eceb10>"
      ]
     },
     "execution_count": 13,
     "metadata": {},
     "output_type": "execute_result"
    },
    {
     "data": {
      "image/png": "[encoded data removed]",
      "text/plain": [
       "<Figure size 1000x1000 with 1 Axes>"
      ]
     },
     "metadata": {},
     "output_type": "display_data"
    }
   ],
   "source": [
    "df3_b['product'] = 'butter'\n",
    "df3_m['product'] = 'milk'\n",
    "df3_o = pd.concat([df3_b, df3_m], ignore_index=True)\n",
    "\n",
    "plt.figure(figsize=(10,10))\n",
    "sns.scatterplot(\n",
    "    data=df3_o,\n",
    "    x='samples_count',\n",
    "    y='pesticides_samples_count',\n",
    "    hue='product',\n",
    "    palette={'butter': '#1f77b4', 'milk': '#b41f77'},\n",
    "    s=120\n",
    ")\n",
    "plt.xlabel('Number of samples per (year, country)', fontsize=14)\n",
    "plt.ylabel('Number of samples with pesticides per (year, country)', fontsize=14)\n",
    "plt.title('Relationship between the number of butter samples analyzed and the number \\n of substances detected in the EU MACP pesticide residues monitoring program \\n in selected European countries (2011–2023)', fontsize=16)\n",
    "plt.xticks(fontsize=12)\n",
    "plt.yticks(fontsize=12)\n",
    "plt.legend(fontsize=12)"
   ]
  },
  {
   "cell_type": "markdown",
   "id": "2f429189",
   "metadata": {},
   "source": [
    "#### Linear regression"
   ]
  },
  {
   "cell_type": "code",
   "execution_count": 14,
   "id": "527bf243",
   "metadata": {},
   "outputs": [],
   "source": [
    "df3_o['percentage_with_pesticides'] = 100 * df3_o['pesticides_samples_count'] / df3_o['samples_count']\n",
    "df3_m['percentage_with_pesticides'] = 100 * df3_m['pesticides_samples_count'] / df3_m['samples_count']\n",
    "df3_b['percentage_with_pesticides'] = 100 * df3_b['pesticides_samples_count'] / df3_b['samples_count']"
   ]
  },
  {
   "cell_type": "markdown",
   "id": "65487dda",
   "metadata": {},
   "source": [
    "Both"
   ]
  },
  {
   "cell_type": "code",
   "execution_count": 16,
   "id": "5f65e28e",
   "metadata": {},
   "outputs": [
    {
     "name": "stdout",
     "output_type": "stream",
     "text": [
      "R^2 score: 0.07\n",
      "Coefficient: [[0.03552831]]\n"
     ]
    }
   ],
   "source": [
    "model = LinearRegression()\n",
    "model.fit(X = df3_o[['samples_count']], y = df3_o[['pesticides_samples_count']])\n",
    "print(f'R^2 score: {model.score(X = df3_o[['samples_count']], y = df3_o[['pesticides_samples_count']]):.2f}')\n",
    "print(f'Coefficient: {model.coef_}')"
   ]
  },
  {
   "cell_type": "markdown",
   "id": "f90ce591",
   "metadata": {},
   "source": [
    "Milk only "
   ]
  },
  {
   "cell_type": "code",
   "execution_count": 22,
   "id": "552b13de",
   "metadata": {},
   "outputs": [
    {
     "name": "stdout",
     "output_type": "stream",
     "text": [
      "R^2 score: 0.06\n",
      "Coefficient: [[0.030563]]\n"
     ]
    }
   ],
   "source": [
    "model = LinearRegression()\n",
    "model.fit(X = df3_m[['samples_count']], y = df3_m[['pesticides_samples_count']])\n",
    "print(f'R^2 score: {model.score(X = df3_m[['samples_count']], y = df3_m[['pesticides_samples_count']]):.2f}')\n",
    "print(f'Coefficient: {model.coef_}')"
   ]
  },
  {
   "cell_type": "markdown",
   "id": "e5bdbbd5",
   "metadata": {},
   "source": [
    "Butter only"
   ]
  },
  {
   "cell_type": "code",
   "execution_count": 24,
   "id": "a350c455",
   "metadata": {},
   "outputs": [
    {
     "name": "stdout",
     "output_type": "stream",
     "text": [
      "R^2 score: 0.45\n",
      "Coefficient: [[0.29180586]]\n"
     ]
    }
   ],
   "source": [
    "model = LinearRegression()\n",
    "model.fit(X = df3_b[['samples_count']], y = df3_b[['pesticides_samples_count']])\n",
    "print(f'R^2 score: {model.score(X = df3_b[['samples_count']], y = df3_b[['pesticides_samples_count']]):.2f}')\n",
    "print(f'Coefficient: {model.coef_}')"
   ]
  },
  {
   "cell_type": "markdown",
   "id": "3ea3f441",
   "metadata": {},
   "source": [
    "#### Correlations "
   ]
  },
  {
   "cell_type": "markdown",
   "id": "a722db84",
   "metadata": {},
   "source": [
    "Both"
   ]
  },
  {
   "cell_type": "markdown",
   "id": "ad4c4682",
   "metadata": {},
   "source": [
    "Pearson"
   ]
  },
  {
   "cell_type": "code",
   "execution_count": 34,
   "id": "481d68b3",
   "metadata": {},
   "outputs": [
    {
     "data": {
      "text/html": [
       "<div>\n",
       "<style scoped>\n",
       "    .dataframe tbody tr th:only-of-type {\n",
       "        vertical-align: middle;\n",
       "    }\n",
       "\n",
       "    .dataframe tbody tr th {\n",
       "        vertical-align: top;\n",
       "    }\n",
       "\n",
       "    .dataframe thead th {\n",
       "        text-align: right;\n",
       "    }\n",
       "</style>\n",
       "<table border=\"1\" class=\"dataframe\">\n",
       "  <thead>\n",
       "    <tr style=\"text-align: right;\">\n",
       "      <th></th>\n",
       "      <th>samples_count</th>\n",
       "      <th>pesticides_samples_count</th>\n",
       "    </tr>\n",
       "  </thead>\n",
       "  <tbody>\n",
       "    <tr>\n",
       "      <th>samples_count</th>\n",
       "      <td>1.000000</td>\n",
       "      <td>0.260809</td>\n",
       "    </tr>\n",
       "    <tr>\n",
       "      <th>pesticides_samples_count</th>\n",
       "      <td>0.260809</td>\n",
       "      <td>1.000000</td>\n",
       "    </tr>\n",
       "  </tbody>\n",
       "</table>\n",
       "</div>"
      ],
      "text/plain": [
       "                          samples_count  pesticides_samples_count\n",
       "samples_count                  1.000000                  0.260809\n",
       "pesticides_samples_count       0.260809                  1.000000"
      ]
     },
     "execution_count": 34,
     "metadata": {},
     "output_type": "execute_result"
    }
   ],
   "source": [
    "df3_o[['samples_count', 'pesticides_samples_count']].corr(method='pearson')"
   ]
  },
  {
   "cell_type": "markdown",
   "id": "783aea6d",
   "metadata": {},
   "source": [
    "Spearman"
   ]
  },
  {
   "cell_type": "code",
   "execution_count": 33,
   "id": "6425ddff",
   "metadata": {},
   "outputs": [
    {
     "data": {
      "text/html": [
       "<div>\n",
       "<style scoped>\n",
       "    .dataframe tbody tr th:only-of-type {\n",
       "        vertical-align: middle;\n",
       "    }\n",
       "\n",
       "    .dataframe tbody tr th {\n",
       "        vertical-align: top;\n",
       "    }\n",
       "\n",
       "    .dataframe thead th {\n",
       "        text-align: right;\n",
       "    }\n",
       "</style>\n",
       "<table border=\"1\" class=\"dataframe\">\n",
       "  <thead>\n",
       "    <tr style=\"text-align: right;\">\n",
       "      <th></th>\n",
       "      <th>samples_count</th>\n",
       "      <th>pesticides_samples_count</th>\n",
       "    </tr>\n",
       "  </thead>\n",
       "  <tbody>\n",
       "    <tr>\n",
       "      <th>samples_count</th>\n",
       "      <td>1.000000</td>\n",
       "      <td>0.266382</td>\n",
       "    </tr>\n",
       "    <tr>\n",
       "      <th>pesticides_samples_count</th>\n",
       "      <td>0.266382</td>\n",
       "      <td>1.000000</td>\n",
       "    </tr>\n",
       "  </tbody>\n",
       "</table>\n",
       "</div>"
      ],
      "text/plain": [
       "                          samples_count  pesticides_samples_count\n",
       "samples_count                  1.000000                  0.266382\n",
       "pesticides_samples_count       0.266382                  1.000000"
      ]
     },
     "execution_count": 33,
     "metadata": {},
     "output_type": "execute_result"
    }
   ],
   "source": [
    "df3_o[['samples_count', 'pesticides_samples_count']].corr(method='spearman')"
   ]
  },
  {
   "cell_type": "markdown",
   "id": "6f754e4c",
   "metadata": {},
   "source": [
    "Milk only "
   ]
  },
  {
   "cell_type": "code",
   "execution_count": 31,
   "id": "80356eff",
   "metadata": {},
   "outputs": [
    {
     "data": {
      "text/html": [
       "<div>\n",
       "<style scoped>\n",
       "    .dataframe tbody tr th:only-of-type {\n",
       "        vertical-align: middle;\n",
       "    }\n",
       "\n",
       "    .dataframe tbody tr th {\n",
       "        vertical-align: top;\n",
       "    }\n",
       "\n",
       "    .dataframe thead th {\n",
       "        text-align: right;\n",
       "    }\n",
       "</style>\n",
       "<table border=\"1\" class=\"dataframe\">\n",
       "  <thead>\n",
       "    <tr style=\"text-align: right;\">\n",
       "      <th></th>\n",
       "      <th>samples_count</th>\n",
       "      <th>pesticides_samples_count</th>\n",
       "    </tr>\n",
       "  </thead>\n",
       "  <tbody>\n",
       "    <tr>\n",
       "      <th>samples_count</th>\n",
       "      <td>1.000000</td>\n",
       "      <td>0.253527</td>\n",
       "    </tr>\n",
       "    <tr>\n",
       "      <th>pesticides_samples_count</th>\n",
       "      <td>0.253527</td>\n",
       "      <td>1.000000</td>\n",
       "    </tr>\n",
       "  </tbody>\n",
       "</table>\n",
       "</div>"
      ],
      "text/plain": [
       "                          samples_count  pesticides_samples_count\n",
       "samples_count                  1.000000                  0.253527\n",
       "pesticides_samples_count       0.253527                  1.000000"
      ]
     },
     "execution_count": 31,
     "metadata": {},
     "output_type": "execute_result"
    }
   ],
   "source": [
    "df3_m[['samples_count', 'pesticides_samples_count']].corr(method='pearson')"
   ]
  },
  {
   "cell_type": "markdown",
   "id": "ad228e2b",
   "metadata": {},
   "source": [
    "Butter only "
   ]
  },
  {
   "cell_type": "code",
   "execution_count": 32,
   "id": "aa3a38e0",
   "metadata": {},
   "outputs": [
    {
     "data": {
      "text/html": [
       "<div>\n",
       "<style scoped>\n",
       "    .dataframe tbody tr th:only-of-type {\n",
       "        vertical-align: middle;\n",
       "    }\n",
       "\n",
       "    .dataframe tbody tr th {\n",
       "        vertical-align: top;\n",
       "    }\n",
       "\n",
       "    .dataframe thead th {\n",
       "        text-align: right;\n",
       "    }\n",
       "</style>\n",
       "<table border=\"1\" class=\"dataframe\">\n",
       "  <thead>\n",
       "    <tr style=\"text-align: right;\">\n",
       "      <th></th>\n",
       "      <th>samples_count</th>\n",
       "      <th>pesticides_samples_count</th>\n",
       "    </tr>\n",
       "  </thead>\n",
       "  <tbody>\n",
       "    <tr>\n",
       "      <th>samples_count</th>\n",
       "      <td>1.000000</td>\n",
       "      <td>0.671667</td>\n",
       "    </tr>\n",
       "    <tr>\n",
       "      <th>pesticides_samples_count</th>\n",
       "      <td>0.671667</td>\n",
       "      <td>1.000000</td>\n",
       "    </tr>\n",
       "  </tbody>\n",
       "</table>\n",
       "</div>"
      ],
      "text/plain": [
       "                          samples_count  pesticides_samples_count\n",
       "samples_count                  1.000000                  0.671667\n",
       "pesticides_samples_count       0.671667                  1.000000"
      ]
     },
     "execution_count": 32,
     "metadata": {},
     "output_type": "execute_result"
    }
   ],
   "source": [
    "df3_b[['samples_count', 'pesticides_samples_count']].corr(method='pearson')"
   ]
  },
  {
   "cell_type": "markdown",
   "id": "01e1d353",
   "metadata": {},
   "source": [
    "#### Linear model with limits"
   ]
  },
  {
   "cell_type": "code",
   "execution_count": 40,
   "id": "3290dc08",
   "metadata": {},
   "outputs": [
    {
     "name": "stdout",
     "output_type": "stream",
     "text": [
      "R^2 score: 0.47\n",
      "Coefficient: [[-0.01918649  0.10715443 -0.42655386 -0.11861459]]\n"
     ]
    }
   ],
   "source": [
    "df3_l = pd.read_csv('../results/results/1_samples_count_milk.csv')\n",
    "df3_l = df3_l[df3_l['limit'] > 0]\n",
    "df3_l['fulfilment_of_requirements'] = df3_l['obligaotry_samples'] / df3_l['limit'] * 100 \n",
    "\n",
    "df3_l = pd.merge(df3_l, df3_m, left_on=['country', 'year'], right_on=['sampCountry', 'year'])\n",
    "\n",
    "model = LinearRegression()\n",
    "model.fit(X = df3_l[['fulfilment_of_requirements', 'unique_sample_count', 'year', 'limit']], y = df3_l[['pesticides_samples_count']])\n",
    "print(f'R^2 score: {model.score(X = df3_l[['fulfilment_of_requirements', 'unique_sample_count', 'year', 'limit']], y = df3_l[['pesticides_samples_count']]):.2f}')\n",
    "print(f'Coefficient: {model.coef_}')"
   ]
  },
  {
   "cell_type": "markdown",
   "id": "2ab3ac21",
   "metadata": {},
   "source": [
    "#### Non-mandatory programmes"
   ]
  },
  {
   "cell_type": "code",
   "execution_count": 41,
   "id": "e9c7af81",
   "metadata": {},
   "outputs": [
    {
     "data": {
      "text/html": [
       "<div>\n",
       "<style scoped>\n",
       "    .dataframe tbody tr th:only-of-type {\n",
       "        vertical-align: middle;\n",
       "    }\n",
       "\n",
       "    .dataframe tbody tr th {\n",
       "        vertical-align: top;\n",
       "    }\n",
       "\n",
       "    .dataframe thead th {\n",
       "        text-align: right;\n",
       "    }\n",
       "</style>\n",
       "<table border=\"1\" class=\"dataframe\">\n",
       "  <thead>\n",
       "    <tr style=\"text-align: right;\">\n",
       "      <th></th>\n",
       "      <th>sampCountry</th>\n",
       "      <th>year</th>\n",
       "      <th>samples_count</th>\n",
       "      <th>pesticides_samples_count</th>\n",
       "    </tr>\n",
       "  </thead>\n",
       "  <tbody>\n",
       "    <tr>\n",
       "      <th>0</th>\n",
       "      <td>AT</td>\n",
       "      <td>2011</td>\n",
       "      <td>282</td>\n",
       "      <td>2</td>\n",
       "    </tr>\n",
       "    <tr>\n",
       "      <th>1</th>\n",
       "      <td>AT</td>\n",
       "      <td>2012</td>\n",
       "      <td>285</td>\n",
       "      <td>1</td>\n",
       "    </tr>\n",
       "    <tr>\n",
       "      <th>2</th>\n",
       "      <td>AT</td>\n",
       "      <td>2013</td>\n",
       "      <td>288</td>\n",
       "      <td>0</td>\n",
       "    </tr>\n",
       "    <tr>\n",
       "      <th>3</th>\n",
       "      <td>AT</td>\n",
       "      <td>2014</td>\n",
       "      <td>293</td>\n",
       "      <td>0</td>\n",
       "    </tr>\n",
       "    <tr>\n",
       "      <th>4</th>\n",
       "      <td>AT</td>\n",
       "      <td>2015</td>\n",
       "      <td>339</td>\n",
       "      <td>7</td>\n",
       "    </tr>\n",
       "    <tr>\n",
       "      <th>5</th>\n",
       "      <td>AT</td>\n",
       "      <td>2016</td>\n",
       "      <td>64</td>\n",
       "      <td>0</td>\n",
       "    </tr>\n",
       "    <tr>\n",
       "      <th>6</th>\n",
       "      <td>AT</td>\n",
       "      <td>2017</td>\n",
       "      <td>1</td>\n",
       "      <td>0</td>\n",
       "    </tr>\n",
       "    <tr>\n",
       "      <th>7</th>\n",
       "      <td>AT</td>\n",
       "      <td>2019</td>\n",
       "      <td>20</td>\n",
       "      <td>0</td>\n",
       "    </tr>\n",
       "    <tr>\n",
       "      <th>8</th>\n",
       "      <td>AT</td>\n",
       "      <td>2022</td>\n",
       "      <td>10</td>\n",
       "      <td>10</td>\n",
       "    </tr>\n",
       "    <tr>\n",
       "      <th>9</th>\n",
       "      <td>CY</td>\n",
       "      <td>2011</td>\n",
       "      <td>34</td>\n",
       "      <td>1</td>\n",
       "    </tr>\n",
       "  </tbody>\n",
       "</table>\n",
       "</div>"
      ],
      "text/plain": [
       "  sampCountry  year  samples_count  pesticides_samples_count\n",
       "0          AT  2011            282                         2\n",
       "1          AT  2012            285                         1\n",
       "2          AT  2013            288                         0\n",
       "3          AT  2014            293                         0\n",
       "4          AT  2015            339                         7\n",
       "5          AT  2016             64                         0\n",
       "6          AT  2017              1                         0\n",
       "7          AT  2019             20                         0\n",
       "8          AT  2022             10                        10\n",
       "9          CY  2011             34                         1"
      ]
     },
     "execution_count": 41,
     "metadata": {},
     "output_type": "execute_result"
    }
   ],
   "source": [
    "df3_m = aggregator.pesticides_sampling_relation(year_list=year_list, country_list=country_list, \n",
    "                                                product='milk', programme='voluntary')\n",
    "df3_m.to_csv('../results/results/3_samples_detected_relation_milk_no.csv')\n",
    "df3_m.head(10)"
   ]
  },
  {
   "cell_type": "code",
   "execution_count": 42,
   "id": "acba1f22",
   "metadata": {},
   "outputs": [
    {
     "data": {
      "text/html": [
       "<div>\n",
       "<style scoped>\n",
       "    .dataframe tbody tr th:only-of-type {\n",
       "        vertical-align: middle;\n",
       "    }\n",
       "\n",
       "    .dataframe tbody tr th {\n",
       "        vertical-align: top;\n",
       "    }\n",
       "\n",
       "    .dataframe thead th {\n",
       "        text-align: right;\n",
       "    }\n",
       "</style>\n",
       "<table border=\"1\" class=\"dataframe\">\n",
       "  <thead>\n",
       "    <tr style=\"text-align: right;\">\n",
       "      <th></th>\n",
       "      <th>sampCountry</th>\n",
       "      <th>year</th>\n",
       "      <th>samples_count</th>\n",
       "      <th>pesticides_samples_count</th>\n",
       "    </tr>\n",
       "  </thead>\n",
       "  <tbody>\n",
       "    <tr>\n",
       "      <th>0</th>\n",
       "      <td>AT</td>\n",
       "      <td>2014</td>\n",
       "      <td>8</td>\n",
       "      <td>2</td>\n",
       "    </tr>\n",
       "    <tr>\n",
       "      <th>1</th>\n",
       "      <td>AT</td>\n",
       "      <td>2015</td>\n",
       "      <td>84</td>\n",
       "      <td>9</td>\n",
       "    </tr>\n",
       "    <tr>\n",
       "      <th>2</th>\n",
       "      <td>AT</td>\n",
       "      <td>2016</td>\n",
       "      <td>49</td>\n",
       "      <td>0</td>\n",
       "    </tr>\n",
       "    <tr>\n",
       "      <th>3</th>\n",
       "      <td>AT</td>\n",
       "      <td>2017</td>\n",
       "      <td>2</td>\n",
       "      <td>0</td>\n",
       "    </tr>\n",
       "    <tr>\n",
       "      <th>4</th>\n",
       "      <td>AT</td>\n",
       "      <td>2018</td>\n",
       "      <td>1</td>\n",
       "      <td>0</td>\n",
       "    </tr>\n",
       "    <tr>\n",
       "      <th>5</th>\n",
       "      <td>CZ</td>\n",
       "      <td>2011</td>\n",
       "      <td>15</td>\n",
       "      <td>15</td>\n",
       "    </tr>\n",
       "    <tr>\n",
       "      <th>6</th>\n",
       "      <td>CZ</td>\n",
       "      <td>2012</td>\n",
       "      <td>18</td>\n",
       "      <td>18</td>\n",
       "    </tr>\n",
       "    <tr>\n",
       "      <th>7</th>\n",
       "      <td>CZ</td>\n",
       "      <td>2013</td>\n",
       "      <td>6</td>\n",
       "      <td>6</td>\n",
       "    </tr>\n",
       "    <tr>\n",
       "      <th>8</th>\n",
       "      <td>CZ</td>\n",
       "      <td>2014</td>\n",
       "      <td>9</td>\n",
       "      <td>7</td>\n",
       "    </tr>\n",
       "    <tr>\n",
       "      <th>9</th>\n",
       "      <td>CZ</td>\n",
       "      <td>2015</td>\n",
       "      <td>20</td>\n",
       "      <td>18</td>\n",
       "    </tr>\n",
       "  </tbody>\n",
       "</table>\n",
       "</div>"
      ],
      "text/plain": [
       "  sampCountry  year  samples_count  pesticides_samples_count\n",
       "0          AT  2014              8                         2\n",
       "1          AT  2015             84                         9\n",
       "2          AT  2016             49                         0\n",
       "3          AT  2017              2                         0\n",
       "4          AT  2018              1                         0\n",
       "5          CZ  2011             15                        15\n",
       "6          CZ  2012             18                        18\n",
       "7          CZ  2013              6                         6\n",
       "8          CZ  2014              9                         7\n",
       "9          CZ  2015             20                        18"
      ]
     },
     "execution_count": 42,
     "metadata": {},
     "output_type": "execute_result"
    }
   ],
   "source": [
    "df3_b = aggregator.pesticides_sampling_relation(year_list=year_list, country_list=country_list, \n",
    "                                                product='butter', programme='voluntary')\n",
    "df3_b.to_csv('../results/results/3_samples_detected_relation_butter_no.csv')\n",
    "df3_b.head(10)"
   ]
  },
  {
   "cell_type": "code",
   "execution_count": 43,
   "id": "fba9bc3c",
   "metadata": {},
   "outputs": [
    {
     "data": {
      "text/plain": [
       "<matplotlib.legend.Legend at 0x1502f9c40>"
      ]
     },
     "execution_count": 43,
     "metadata": {},
     "output_type": "execute_result"
    },
    {
     "data": {
      "image/png": "[encoded data removed]",
      "text/plain": [
       "<Figure size 1000x1000 with 1 Axes>"
      ]
     },
     "metadata": {},
     "output_type": "display_data"
    }
   ],
   "source": [
    "df3_b['product'] = 'butter'\n",
    "df3_m['product'] = 'milk'\n",
    "df3_o = pd.concat([df3_b, df3_m], ignore_index=True)\n",
    "\n",
    "plt.figure(figsize=(10,10))\n",
    "sns.scatterplot(\n",
    "    data=df3_o,\n",
    "    x='samples_count',\n",
    "    y='pesticides_samples_count',\n",
    "    hue='product',\n",
    "    palette={'butter': '#1f77b4', 'milk': '#b41f77'},\n",
    "    s=120\n",
    ")\n",
    "plt.xlabel('Number of samples per (year, country)', fontsize=14)\n",
    "plt.ylabel('Number of samples with pesticides per (year, country)', fontsize=14)\n",
    "plt.title('Relationship between the number of butter samples analyzed and the number \\n of substances detected in the EU MACP pesticide residues monitoring program \\n in selected European countries (2011–2023)', fontsize=16)\n",
    "plt.xticks(fontsize=12)\n",
    "plt.yticks(fontsize=12)\n",
    "plt.legend(fontsize=12)"
   ]
  },
  {
   "cell_type": "markdown",
   "id": "17307734",
   "metadata": {},
   "source": [
    "#### Linear regression"
   ]
  },
  {
   "cell_type": "code",
   "execution_count": 44,
   "id": "b2bfcfd1",
   "metadata": {},
   "outputs": [],
   "source": [
    "df3_o['percentage_with_pesticides'] = 100 * df3_o['pesticides_samples_count'] / df3_o['samples_count']\n",
    "df3_m['percentage_with_pesticides'] = 100 * df3_m['pesticides_samples_count'] / df3_m['samples_count']\n",
    "df3_b['percentage_with_pesticides'] = 100 * df3_b['pesticides_samples_count'] / df3_b['samples_count']"
   ]
  },
  {
   "cell_type": "markdown",
   "id": "3e254e60",
   "metadata": {},
   "source": [
    "Both"
   ]
  },
  {
   "cell_type": "code",
   "execution_count": 45,
   "id": "74eeeafb",
   "metadata": {},
   "outputs": [
    {
     "name": "stdout",
     "output_type": "stream",
     "text": [
      "R^2 score: 0.21\n",
      "Coefficient: [[0.1242168]]\n"
     ]
    }
   ],
   "source": [
    "model = LinearRegression()\n",
    "model.fit(X = df3_o[['samples_count']], y = df3_o[['pesticides_samples_count']])\n",
    "print(f'R^2 score: {model.score(X = df3_o[['samples_count']], y = df3_o[['pesticides_samples_count']]):.2f}')\n",
    "print(f'Coefficient: {model.coef_}')"
   ]
  },
  {
   "cell_type": "markdown",
   "id": "4921fda3",
   "metadata": {},
   "source": [
    "Milk only "
   ]
  },
  {
   "cell_type": "code",
   "execution_count": 46,
   "id": "343048b1",
   "metadata": {},
   "outputs": [
    {
     "name": "stdout",
     "output_type": "stream",
     "text": [
      "R^2 score: 0.18\n",
      "Coefficient: [[0.11629725]]\n"
     ]
    }
   ],
   "source": [
    "model = LinearRegression()\n",
    "model.fit(X = df3_m[['samples_count']], y = df3_m[['pesticides_samples_count']])\n",
    "print(f'R^2 score: {model.score(X = df3_m[['samples_count']], y = df3_m[['pesticides_samples_count']]):.2f}')\n",
    "print(f'Coefficient: {model.coef_}')"
   ]
  },
  {
   "cell_type": "markdown",
   "id": "4799c9af",
   "metadata": {},
   "source": [
    "Butter only"
   ]
  },
  {
   "cell_type": "code",
   "execution_count": 47,
   "id": "4576d5cc",
   "metadata": {},
   "outputs": [
    {
     "name": "stdout",
     "output_type": "stream",
     "text": [
      "R^2 score: 0.71\n",
      "Coefficient: [[0.27256482]]\n"
     ]
    }
   ],
   "source": [
    "model = LinearRegression()\n",
    "model.fit(X = df3_b[['samples_count']], y = df3_b[['pesticides_samples_count']])\n",
    "print(f'R^2 score: {model.score(X = df3_b[['samples_count']], y = df3_b[['pesticides_samples_count']]):.2f}')\n",
    "print(f'Coefficient: {model.coef_}')"
   ]
  },
  {
   "cell_type": "markdown",
   "id": "f8345eee",
   "metadata": {},
   "source": [
    "#### Correlations "
   ]
  },
  {
   "cell_type": "markdown",
   "id": "96520bac",
   "metadata": {},
   "source": [
    "Both"
   ]
  },
  {
   "cell_type": "markdown",
   "id": "ab84c4f1",
   "metadata": {},
   "source": [
    "Pearson"
   ]
  },
  {
   "cell_type": "code",
   "execution_count": 48,
   "id": "692cb2ef",
   "metadata": {},
   "outputs": [
    {
     "data": {
      "text/html": [
       "<div>\n",
       "<style scoped>\n",
       "    .dataframe tbody tr th:only-of-type {\n",
       "        vertical-align: middle;\n",
       "    }\n",
       "\n",
       "    .dataframe tbody tr th {\n",
       "        vertical-align: top;\n",
       "    }\n",
       "\n",
       "    .dataframe thead th {\n",
       "        text-align: right;\n",
       "    }\n",
       "</style>\n",
       "<table border=\"1\" class=\"dataframe\">\n",
       "  <thead>\n",
       "    <tr style=\"text-align: right;\">\n",
       "      <th></th>\n",
       "      <th>samples_count</th>\n",
       "      <th>pesticides_samples_count</th>\n",
       "    </tr>\n",
       "  </thead>\n",
       "  <tbody>\n",
       "    <tr>\n",
       "      <th>samples_count</th>\n",
       "      <td>1.000000</td>\n",
       "      <td>0.455105</td>\n",
       "    </tr>\n",
       "    <tr>\n",
       "      <th>pesticides_samples_count</th>\n",
       "      <td>0.455105</td>\n",
       "      <td>1.000000</td>\n",
       "    </tr>\n",
       "  </tbody>\n",
       "</table>\n",
       "</div>"
      ],
      "text/plain": [
       "                          samples_count  pesticides_samples_count\n",
       "samples_count                  1.000000                  0.455105\n",
       "pesticides_samples_count       0.455105                  1.000000"
      ]
     },
     "execution_count": 48,
     "metadata": {},
     "output_type": "execute_result"
    }
   ],
   "source": [
    "df3_o[['samples_count', 'pesticides_samples_count']].corr(method='pearson')"
   ]
  },
  {
   "cell_type": "markdown",
   "id": "98188809",
   "metadata": {},
   "source": [
    "Spearman"
   ]
  },
  {
   "cell_type": "code",
   "execution_count": 49,
   "id": "c80ed5a4",
   "metadata": {},
   "outputs": [
    {
     "data": {
      "text/html": [
       "<div>\n",
       "<style scoped>\n",
       "    .dataframe tbody tr th:only-of-type {\n",
       "        vertical-align: middle;\n",
       "    }\n",
       "\n",
       "    .dataframe tbody tr th {\n",
       "        vertical-align: top;\n",
       "    }\n",
       "\n",
       "    .dataframe thead th {\n",
       "        text-align: right;\n",
       "    }\n",
       "</style>\n",
       "<table border=\"1\" class=\"dataframe\">\n",
       "  <thead>\n",
       "    <tr style=\"text-align: right;\">\n",
       "      <th></th>\n",
       "      <th>samples_count</th>\n",
       "      <th>pesticides_samples_count</th>\n",
       "    </tr>\n",
       "  </thead>\n",
       "  <tbody>\n",
       "    <tr>\n",
       "      <th>samples_count</th>\n",
       "      <td>1.000000</td>\n",
       "      <td>0.411234</td>\n",
       "    </tr>\n",
       "    <tr>\n",
       "      <th>pesticides_samples_count</th>\n",
       "      <td>0.411234</td>\n",
       "      <td>1.000000</td>\n",
       "    </tr>\n",
       "  </tbody>\n",
       "</table>\n",
       "</div>"
      ],
      "text/plain": [
       "                          samples_count  pesticides_samples_count\n",
       "samples_count                  1.000000                  0.411234\n",
       "pesticides_samples_count       0.411234                  1.000000"
      ]
     },
     "execution_count": 49,
     "metadata": {},
     "output_type": "execute_result"
    }
   ],
   "source": [
    "df3_o[['samples_count', 'pesticides_samples_count']].corr(method='spearman')"
   ]
  },
  {
   "cell_type": "markdown",
   "id": "dcfb2025",
   "metadata": {},
   "source": [
    "Milk only "
   ]
  },
  {
   "cell_type": "code",
   "execution_count": 50,
   "id": "86b7b7f1",
   "metadata": {},
   "outputs": [
    {
     "data": {
      "text/html": [
       "<div>\n",
       "<style scoped>\n",
       "    .dataframe tbody tr th:only-of-type {\n",
       "        vertical-align: middle;\n",
       "    }\n",
       "\n",
       "    .dataframe tbody tr th {\n",
       "        vertical-align: top;\n",
       "    }\n",
       "\n",
       "    .dataframe thead th {\n",
       "        text-align: right;\n",
       "    }\n",
       "</style>\n",
       "<table border=\"1\" class=\"dataframe\">\n",
       "  <thead>\n",
       "    <tr style=\"text-align: right;\">\n",
       "      <th></th>\n",
       "      <th>samples_count</th>\n",
       "      <th>pesticides_samples_count</th>\n",
       "    </tr>\n",
       "  </thead>\n",
       "  <tbody>\n",
       "    <tr>\n",
       "      <th>samples_count</th>\n",
       "      <td>1.000000</td>\n",
       "      <td>0.425087</td>\n",
       "    </tr>\n",
       "    <tr>\n",
       "      <th>pesticides_samples_count</th>\n",
       "      <td>0.425087</td>\n",
       "      <td>1.000000</td>\n",
       "    </tr>\n",
       "  </tbody>\n",
       "</table>\n",
       "</div>"
      ],
      "text/plain": [
       "                          samples_count  pesticides_samples_count\n",
       "samples_count                  1.000000                  0.425087\n",
       "pesticides_samples_count       0.425087                  1.000000"
      ]
     },
     "execution_count": 50,
     "metadata": {},
     "output_type": "execute_result"
    }
   ],
   "source": [
    "df3_m[['samples_count', 'pesticides_samples_count']].corr(method='pearson')"
   ]
  },
  {
   "cell_type": "markdown",
   "id": "db0fb88b",
   "metadata": {},
   "source": [
    "Butter only "
   ]
  },
  {
   "cell_type": "code",
   "execution_count": 51,
   "id": "3032d66e",
   "metadata": {},
   "outputs": [
    {
     "data": {
      "text/html": [
       "<div>\n",
       "<style scoped>\n",
       "    .dataframe tbody tr th:only-of-type {\n",
       "        vertical-align: middle;\n",
       "    }\n",
       "\n",
       "    .dataframe tbody tr th {\n",
       "        vertical-align: top;\n",
       "    }\n",
       "\n",
       "    .dataframe thead th {\n",
       "        text-align: right;\n",
       "    }\n",
       "</style>\n",
       "<table border=\"1\" class=\"dataframe\">\n",
       "  <thead>\n",
       "    <tr style=\"text-align: right;\">\n",
       "      <th></th>\n",
       "      <th>samples_count</th>\n",
       "      <th>pesticides_samples_count</th>\n",
       "    </tr>\n",
       "  </thead>\n",
       "  <tbody>\n",
       "    <tr>\n",
       "      <th>samples_count</th>\n",
       "      <td>1.000000</td>\n",
       "      <td>0.839893</td>\n",
       "    </tr>\n",
       "    <tr>\n",
       "      <th>pesticides_samples_count</th>\n",
       "      <td>0.839893</td>\n",
       "      <td>1.000000</td>\n",
       "    </tr>\n",
       "  </tbody>\n",
       "</table>\n",
       "</div>"
      ],
      "text/plain": [
       "                          samples_count  pesticides_samples_count\n",
       "samples_count                  1.000000                  0.839893\n",
       "pesticides_samples_count       0.839893                  1.000000"
      ]
     },
     "execution_count": 51,
     "metadata": {},
     "output_type": "execute_result"
    }
   ],
   "source": [
    "df3_b[['samples_count', 'pesticides_samples_count']].corr(method='pearson')"
   ]
  },
  {
   "cell_type": "markdown",
   "id": "0bdb2426",
   "metadata": {},
   "source": [
    "### **Trends in detection**"
   ]
  },
  {
   "cell_type": "code",
   "execution_count": 55,
   "id": "bde2d6e2",
   "metadata": {},
   "outputs": [],
   "source": [
    "milk = np.array([[2010, 91.3],\n",
    "                [2013, 92.3],\n",
    "                [2016, 93.6],\n",
    "                [2019, 99.7],\n",
    "                [2022, 96.9]])\n",
    "butter = np.array([[2009, 79.5],\n",
    "                  [2012, 83.4],\n",
    "                  [2015, 87.2]])"
   ]
  },
  {
   "cell_type": "code",
   "execution_count": 56,
   "id": "4e88fa2b",
   "metadata": {},
   "outputs": [],
   "source": [
    "def calculate_changes(x: np.array, col: int, relative: bool = False):\n",
    "  res = []\n",
    "  for i in range(len(x)):\n",
    "    if i != 0:\n",
    "      if not relative:\n",
    "        res.append(x[i, col] - x[i-1, col])\n",
    "      else:\n",
    "        res.append((x[i, col] - x[i-1, col])/x[i-1, col])\n",
    "  return res\n",
    "\n",
    "def print_changes(x: np.array, col: int, year_col: int, title: str):\n",
    "  abs_changes = calculate_changes(x, col, False)\n",
    "  relative_changes = calculate_changes(x, col, True)\n",
    "  print(f'Changes in Percantage of Samples Below LOQ for {title}')\n",
    "  print('- - -')\n",
    "  for i in range(len(abs_changes)):\n",
    "    print(f'Between year {int(x[i+1, year_col])} and {int(x[i, year_col])}: absolute change = {abs_changes[i]:2.2f}, relative change = {relative_changes[i]:2.2f}')\n",
    "  print('- - -')\n",
    "  print(f'Average year to year change for {title}: \\n absolute change = {np.mean(abs_changes):2.2f}, relative change = {np.mean(relative_changes):2.2f}')\n",
    "  print('- - -')\n"
   ]
  },
  {
   "cell_type": "markdown",
   "id": "d89d6805",
   "metadata": {},
   "source": [
    "#### Changes analysis"
   ]
  },
  {
   "cell_type": "code",
   "execution_count": 57,
   "id": "baf1ae62",
   "metadata": {},
   "outputs": [
    {
     "name": "stdout",
     "output_type": "stream",
     "text": [
      "Changes in Percantage of Samples Below LOQ for MILK\n",
      "- - -\n",
      "Between year 2013 and 2010: absolute change = 1.00, relative change = 0.01\n",
      "Between year 2016 and 2013: absolute change = 1.30, relative change = 0.01\n",
      "Between year 2019 and 2016: absolute change = 6.10, relative change = 0.07\n",
      "Between year 2022 and 2019: absolute change = -2.80, relative change = -0.03\n",
      "- - -\n",
      "Average year to year change for MILK: \n",
      " absolute change = 1.40, relative change = 0.02\n",
      "- - -\n"
     ]
    }
   ],
   "source": [
    "print_changes(x = milk, col = 1, year_col = 0, title = 'MILK')"
   ]
  },
  {
   "cell_type": "code",
   "execution_count": 58,
   "id": "5e52b23a",
   "metadata": {},
   "outputs": [
    {
     "name": "stdout",
     "output_type": "stream",
     "text": [
      "Changes in Percantage of Samples Below LOQ for BUTTER\n",
      "- - -\n",
      "Between year 2012 and 2009: absolute change = 3.90, relative change = 0.05\n",
      "Between year 2015 and 2012: absolute change = 3.80, relative change = 0.05\n",
      "- - -\n",
      "Average year to year change for BUTTER: \n",
      " absolute change = 3.85, relative change = 0.05\n",
      "- - -\n"
     ]
    }
   ],
   "source": [
    "print_changes(x = butter, col = 1, year_col = 0, title = 'BUTTER')\n"
   ]
  },
  {
   "cell_type": "markdown",
   "id": "6dba1ea9",
   "metadata": {},
   "source": [
    "#### Linear model"
   ]
  },
  {
   "cell_type": "code",
   "execution_count": 59,
   "id": "44088a6a",
   "metadata": {},
   "outputs": [
    {
     "name": "stdout",
     "output_type": "stream",
     "text": [
      "R^2 score: 0.72\n",
      "Coefficient: [0.62]\n"
     ]
    }
   ],
   "source": [
    "model_m = LinearRegression()\n",
    "model_m.fit(X = milk[:, 0].reshape(-1, 1), y = milk[:, 1])\n",
    "print(f'R^2 score: {model_m.score(X = milk[:, 0].reshape(-1, 1), y = milk[:, 1]):.2f}')\n",
    "print(f'Coefficient: {model_m.coef_}')\n"
   ]
  },
  {
   "cell_type": "code",
   "execution_count": 60,
   "id": "b1a333c0",
   "metadata": {},
   "outputs": [
    {
     "data": {
      "image/png": "[encoded data removed]",
      "text/plain": [
       "<Figure size 640x480 with 1 Axes>"
      ]
     },
     "metadata": {},
     "output_type": "display_data"
    }
   ],
   "source": [
    "plt.scatter(milk[:, 0], milk[:, 1], label='Milk Data', color = 'blue')\n",
    "plt.plot(milk[:, 0], model_m.predict(milk[:, 0].reshape(-1, 1)), color='red', label='Linear Regression Model')\n",
    "plt.xlabel('Year')\n",
    "plt.ylabel('Percentage Below LOQ')\n",
    "plt.title('Milk: Percentage Below LOQ Over Time with Linear Regression')\n",
    "plt.grid(True)\n",
    "plt.legend()\n",
    "plt.show()"
   ]
  },
  {
   "cell_type": "markdown",
   "id": "0df60af7",
   "metadata": {},
   "source": [
    "There is no sense in fitting linear model to butter data, as there are only 3 points."
   ]
  },
  {
   "cell_type": "markdown",
   "id": "ea7e8139",
   "metadata": {},
   "source": []
  }
 ],
 "metadata": {
  "kernelspec": {
   "display_name": "basic",
   "language": "python",
   "name": "python3"
  },
  "language_info": {
   "codemirror_mode": {
    "name": "ipython",
    "version": 3
   },
   "file_extension": ".py",
   "mimetype": "text/x-python",
   "name": "python",
   "nbconvert_exporter": "python",
   "pygments_lexer": "ipython3",
   "version": "3.12.11"
  }
 },
 "nbformat": 4,
 "nbformat_minor": 5
}
