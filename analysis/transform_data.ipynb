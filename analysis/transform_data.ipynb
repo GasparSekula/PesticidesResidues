{
 "cells": [
  {
   "cell_type": "markdown",
   "id": "13d0cf2b",
   "metadata": {},
   "source": [
    "task 01\n"
   ]
  },
  {
   "cell_type": "code",
   "execution_count": 1,
   "id": "86d3d32e",
   "metadata": {},
   "outputs": [],
   "source": [
    "import sys\n",
    "import os\n",
    "sys.path.append(os.path.abspath('..'))\n",
    "\n",
    "from src.data_loader import DataLoader"
   ]
  },
  {
   "cell_type": "code",
   "execution_count": 2,
   "id": "9a4adb42",
   "metadata": {},
   "outputs": [],
   "source": [
    "country_list = [\n",
    "    \"AT\", \"CY\", \"CZ\", \"DE\", \"DK\", \"ES\", \"FR\", \"GR\", \"IE\", \"LU\",\n",
    "    \"LV\", \"MT\", \"NO\", \"PL\", \"RO\", \"SE\", \"SI\", \"SK\", \"IT\", \"NL\", \"FI\"\n",
    "]\n",
    "\n",
    "new_country_list = [\n",
    "    \"BE\", \"BA\", \"BG\", \"HR\", \"EE\", \"HU\", \"PT\", \"GB\", \"LT\", \"IS\", \"ME\", \"XI\", \"MK\"\n",
    "]\n",
    "\n",
    "full_country_list = country_list + new_country_list\n",
    "\n",
    "year_list = list(range(2011, 2024))\n",
    "\n",
    "exception_list = [\n",
    "    (\"BA\", 2011), (\"BA\", 2012), (\"BA\", 2013), (\"BA\", 2014), (\"BA\", 2015), (\"BA\", 2016), \n",
    "    (\"HR\", 2011), (\"HR\", 2012), (\"HR\", 2013),    \n",
    "    (\"GB\", 2021), (\"GB\", 2022), (\"GB\", 2023),    \n",
    "    (\"ME\", 2011), (\"ME\", 2012), (\"ME\", 2013), (\"ME\", 2014), (\"ME\", 2015), (\"ME\", 2016), \n",
    "    (\"XI\", 2011), (\"XI\", 2012), (\"XI\", 2013), (\"XI\", 2014), (\"XI\", 2015), (\"XI\", 2016), \n",
    "    (\"XI\", 2017), (\"XI\", 2018), (\"XI\", 2019), (\"XI\", 2020),\n",
    "    (\"MK\", 2011), (\"MK\", 2012), (\"MK\", 2013), (\"MK\", 2014), (\"MK\", 2015), (\"MK\", 2016), \n",
    "    \n",
    "]"
   ]
  },
  {
   "cell_type": "code",
   "execution_count": 3,
   "id": "24ee2af2",
   "metadata": {},
   "outputs": [],
   "source": [
    "loader = DataLoader(data_dir='../data/raw')\n",
    "# loader.load_all_datasets(country_list=full_country_list, year_list=year_list, exceptions_list=exception_list, dest_dir='../data/cleaned')"
   ]
  },
  {
   "cell_type": "code",
   "execution_count": 4,
   "id": "49962b2d",
   "metadata": {},
   "outputs": [
    {
     "name": "stdout",
     "output_type": "stream",
     "text": [
      "All datasets concatenated and saved.\n"
     ]
    }
   ],
   "source": [
    "loader.concat_datasets(country_list=full_country_list, year_list=year_list, orig_dir='../data/cleaned', dest_dir='../data/merged', exceptions_list=exception_list)"
   ]
  },
  {
   "cell_type": "code",
   "execution_count": 5,
   "id": "aa7b9c7f",
   "metadata": {},
   "outputs": [],
   "source": [
    "import pandas as pd"
   ]
  },
  {
   "cell_type": "code",
   "execution_count": 6,
   "id": "25825cf5",
   "metadata": {},
   "outputs": [],
   "source": [
    "df = pd.read_pickle('../data/merged/final_dataset.pkl')"
   ]
  },
  {
   "cell_type": "code",
   "execution_count": 7,
   "id": "d732f664",
   "metadata": {},
   "outputs": [
    {
     "data": {
      "text/html": [
       "<div>\n",
       "<style scoped>\n",
       "    .dataframe tbody tr th:only-of-type {\n",
       "        vertical-align: middle;\n",
       "    }\n",
       "\n",
       "    .dataframe tbody tr th {\n",
       "        vertical-align: top;\n",
       "    }\n",
       "\n",
       "    .dataframe thead th {\n",
       "        text-align: right;\n",
       "    }\n",
       "</style>\n",
       "<table border=\"1\" class=\"dataframe\">\n",
       "  <thead>\n",
       "    <tr style=\"text-align: right;\">\n",
       "      <th></th>\n",
       "      <th>sampleId</th>\n",
       "      <th>sampCountry</th>\n",
       "      <th>origCountry</th>\n",
       "      <th>productCode</th>\n",
       "      <th>efsaProductCode</th>\n",
       "      <th>productTreat</th>\n",
       "      <th>progType</th>\n",
       "      <th>pesticideCode</th>\n",
       "      <th>resVal</th>\n",
       "      <th>fatPerc</th>\n",
       "      <th>resType</th>\n",
       "      <th>year</th>\n",
       "    </tr>\n",
       "  </thead>\n",
       "  <tbody>\n",
       "    <tr>\n",
       "      <th>0</th>\n",
       "      <td>BFEADC296A5E88212E44947D817062D4</td>\n",
       "      <td>AT</td>\n",
       "      <td>AT</td>\n",
       "      <td>P1020010A</td>\n",
       "      <td>NaN</td>\n",
       "      <td>T999A</td>\n",
       "      <td>K005A</td>\n",
       "      <td>RF-0416-001-PPP</td>\n",
       "      <td>NaN</td>\n",
       "      <td>NaN</td>\n",
       "      <td>LOQ</td>\n",
       "      <td>2011</td>\n",
       "    </tr>\n",
       "    <tr>\n",
       "      <th>1</th>\n",
       "      <td>A04026AF7B1E882A900F11206A1AFE6E</td>\n",
       "      <td>AT</td>\n",
       "      <td>AT</td>\n",
       "      <td>P1020010A</td>\n",
       "      <td>NaN</td>\n",
       "      <td>T999A</td>\n",
       "      <td>K005A</td>\n",
       "      <td>RF-0416-001-PPP</td>\n",
       "      <td>NaN</td>\n",
       "      <td>NaN</td>\n",
       "      <td>LOQ</td>\n",
       "      <td>2011</td>\n",
       "    </tr>\n",
       "    <tr>\n",
       "      <th>2</th>\n",
       "      <td>EFFEB53F9F0B7766F4E049C6CA242D0A</td>\n",
       "      <td>AT</td>\n",
       "      <td>AT</td>\n",
       "      <td>P1020010A</td>\n",
       "      <td>NaN</td>\n",
       "      <td>T999A</td>\n",
       "      <td>K005A</td>\n",
       "      <td>RF-0416-001-PPP</td>\n",
       "      <td>NaN</td>\n",
       "      <td>NaN</td>\n",
       "      <td>LOQ</td>\n",
       "      <td>2011</td>\n",
       "    </tr>\n",
       "    <tr>\n",
       "      <th>3</th>\n",
       "      <td>E934633C3CC5415D5F4AE9E96A49B543</td>\n",
       "      <td>AT</td>\n",
       "      <td>AT</td>\n",
       "      <td>P1020010A</td>\n",
       "      <td>NaN</td>\n",
       "      <td>T999A</td>\n",
       "      <td>K005A</td>\n",
       "      <td>RF-0416-001-PPP</td>\n",
       "      <td>NaN</td>\n",
       "      <td>NaN</td>\n",
       "      <td>LOQ</td>\n",
       "      <td>2011</td>\n",
       "    </tr>\n",
       "    <tr>\n",
       "      <th>4</th>\n",
       "      <td>D60EE2B7A4F5ABF10D473155347F3341</td>\n",
       "      <td>AT</td>\n",
       "      <td>AT</td>\n",
       "      <td>P1020010A</td>\n",
       "      <td>NaN</td>\n",
       "      <td>T999A</td>\n",
       "      <td>K005A</td>\n",
       "      <td>RF-0011-001-PPP</td>\n",
       "      <td>NaN</td>\n",
       "      <td>NaN</td>\n",
       "      <td>LOQ</td>\n",
       "      <td>2011</td>\n",
       "    </tr>\n",
       "    <tr>\n",
       "      <th>...</th>\n",
       "      <td>...</td>\n",
       "      <td>...</td>\n",
       "      <td>...</td>\n",
       "      <td>...</td>\n",
       "      <td>...</td>\n",
       "      <td>...</td>\n",
       "      <td>...</td>\n",
       "      <td>...</td>\n",
       "      <td>...</td>\n",
       "      <td>...</td>\n",
       "      <td>...</td>\n",
       "      <td>...</td>\n",
       "    </tr>\n",
       "    <tr>\n",
       "      <th>1513148</th>\n",
       "      <td>C16CAC5209A6248E23A44ABA331818AC</td>\n",
       "      <td>MK</td>\n",
       "      <td>MK</td>\n",
       "      <td>A02LY</td>\n",
       "      <td>NaN</td>\n",
       "      <td>NaN</td>\n",
       "      <td>K005A</td>\n",
       "      <td>RF-0295-001-PPP</td>\n",
       "      <td>NaN</td>\n",
       "      <td>NaN</td>\n",
       "      <td>LOQ</td>\n",
       "      <td>2023</td>\n",
       "    </tr>\n",
       "    <tr>\n",
       "      <th>1513149</th>\n",
       "      <td>C16CAC5209A6248E23A44ABA331818AC</td>\n",
       "      <td>MK</td>\n",
       "      <td>MK</td>\n",
       "      <td>A02LY</td>\n",
       "      <td>NaN</td>\n",
       "      <td>NaN</td>\n",
       "      <td>K005A</td>\n",
       "      <td>RF-0021-001-PPP</td>\n",
       "      <td>NaN</td>\n",
       "      <td>NaN</td>\n",
       "      <td>LOQ</td>\n",
       "      <td>2023</td>\n",
       "    </tr>\n",
       "    <tr>\n",
       "      <th>1513150</th>\n",
       "      <td>C16CAC5209A6248E23A44ABA331818AC</td>\n",
       "      <td>MK</td>\n",
       "      <td>MK</td>\n",
       "      <td>A02LY</td>\n",
       "      <td>NaN</td>\n",
       "      <td>NaN</td>\n",
       "      <td>K005A</td>\n",
       "      <td>RF-0075-005-PPP</td>\n",
       "      <td>NaN</td>\n",
       "      <td>NaN</td>\n",
       "      <td>LOQ</td>\n",
       "      <td>2023</td>\n",
       "    </tr>\n",
       "    <tr>\n",
       "      <th>1513151</th>\n",
       "      <td>C16CAC5209A6248E23A44ABA331818AC</td>\n",
       "      <td>MK</td>\n",
       "      <td>MK</td>\n",
       "      <td>A02LY</td>\n",
       "      <td>NaN</td>\n",
       "      <td>NaN</td>\n",
       "      <td>K005A</td>\n",
       "      <td>RF-0119-001-PPP</td>\n",
       "      <td>NaN</td>\n",
       "      <td>NaN</td>\n",
       "      <td>LOQ</td>\n",
       "      <td>2023</td>\n",
       "    </tr>\n",
       "    <tr>\n",
       "      <th>1513152</th>\n",
       "      <td>C16CAC5209A6248E23A44ABA331818AC</td>\n",
       "      <td>MK</td>\n",
       "      <td>MK</td>\n",
       "      <td>A02LY</td>\n",
       "      <td>NaN</td>\n",
       "      <td>NaN</td>\n",
       "      <td>K005A</td>\n",
       "      <td>RF-0155-001-PPP</td>\n",
       "      <td>NaN</td>\n",
       "      <td>NaN</td>\n",
       "      <td>LOQ</td>\n",
       "      <td>2023</td>\n",
       "    </tr>\n",
       "  </tbody>\n",
       "</table>\n",
       "<p>1513153 rows × 12 columns</p>\n",
       "</div>"
      ],
      "text/plain": [
       "                                 sampleId sampCountry origCountry productCode  \\\n",
       "0        BFEADC296A5E88212E44947D817062D4          AT          AT   P1020010A   \n",
       "1        A04026AF7B1E882A900F11206A1AFE6E          AT          AT   P1020010A   \n",
       "2        EFFEB53F9F0B7766F4E049C6CA242D0A          AT          AT   P1020010A   \n",
       "3        E934633C3CC5415D5F4AE9E96A49B543          AT          AT   P1020010A   \n",
       "4        D60EE2B7A4F5ABF10D473155347F3341          AT          AT   P1020010A   \n",
       "...                                   ...         ...         ...         ...   \n",
       "1513148  C16CAC5209A6248E23A44ABA331818AC          MK          MK       A02LY   \n",
       "1513149  C16CAC5209A6248E23A44ABA331818AC          MK          MK       A02LY   \n",
       "1513150  C16CAC5209A6248E23A44ABA331818AC          MK          MK       A02LY   \n",
       "1513151  C16CAC5209A6248E23A44ABA331818AC          MK          MK       A02LY   \n",
       "1513152  C16CAC5209A6248E23A44ABA331818AC          MK          MK       A02LY   \n",
       "\n",
       "        efsaProductCode productTreat progType    pesticideCode  resVal  \\\n",
       "0                   NaN        T999A    K005A  RF-0416-001-PPP     NaN   \n",
       "1                   NaN        T999A    K005A  RF-0416-001-PPP     NaN   \n",
       "2                   NaN        T999A    K005A  RF-0416-001-PPP     NaN   \n",
       "3                   NaN        T999A    K005A  RF-0416-001-PPP     NaN   \n",
       "4                   NaN        T999A    K005A  RF-0011-001-PPP     NaN   \n",
       "...                 ...          ...      ...              ...     ...   \n",
       "1513148             NaN          NaN    K005A  RF-0295-001-PPP     NaN   \n",
       "1513149             NaN          NaN    K005A  RF-0021-001-PPP     NaN   \n",
       "1513150             NaN          NaN    K005A  RF-0075-005-PPP     NaN   \n",
       "1513151             NaN          NaN    K005A  RF-0119-001-PPP     NaN   \n",
       "1513152             NaN          NaN    K005A  RF-0155-001-PPP     NaN   \n",
       "\n",
       "         fatPerc resType  year  \n",
       "0            NaN     LOQ  2011  \n",
       "1            NaN     LOQ  2011  \n",
       "2            NaN     LOQ  2011  \n",
       "3            NaN     LOQ  2011  \n",
       "4            NaN     LOQ  2011  \n",
       "...          ...     ...   ...  \n",
       "1513148      NaN     LOQ  2023  \n",
       "1513149      NaN     LOQ  2023  \n",
       "1513150      NaN     LOQ  2023  \n",
       "1513151      NaN     LOQ  2023  \n",
       "1513152      NaN     LOQ  2023  \n",
       "\n",
       "[1513153 rows x 12 columns]"
      ]
     },
     "execution_count": 7,
     "metadata": {},
     "output_type": "execute_result"
    }
   ],
   "source": [
    "df"
   ]
  },
  {
   "cell_type": "markdown",
   "id": "74d4a658",
   "metadata": {},
   "source": [
    "#### Butter"
   ]
  },
  {
   "cell_type": "code",
   "execution_count": 19,
   "id": "8f398f9e",
   "metadata": {},
   "outputs": [],
   "source": [
    "df_butter = df[(df['productCode'] == 'A039C') | (df['productTreat'] == 'T152A')]\n",
    "df_butter.to_pickle('../data/merged/butter.pkl')"
   ]
  },
  {
   "cell_type": "markdown",
   "id": "496cf186",
   "metadata": {},
   "source": [
    "#### Milk"
   ]
  },
  {
   "cell_type": "code",
   "execution_count": 18,
   "id": "233f3443",
   "metadata": {},
   "outputs": [],
   "source": [
    "df_milk = df[(df['productTreat'].isin(['T134A', 'T150A', 'T999A'])) | (df['productCode'].str.contains('A02L.*'))]\n",
    "df_milk.to_pickle('../data/merged/milk.pkl')"
   ]
  },
  {
   "cell_type": "markdown",
   "id": "167a9611",
   "metadata": {},
   "source": [
    "### New approach\n",
    "#### Butter"
   ]
  },
  {
   "cell_type": "code",
   "execution_count": 9,
   "id": "d06558fd",
   "metadata": {},
   "outputs": [],
   "source": [
    "df_butter_3 = df[(df['productCode'] == 'A039C') | (df['productTreat'].isin(['T152A', 'T134A']))]\n",
    "df_butter_3.to_pickle('../data/merged/butter_3.pkl')"
   ]
  },
  {
   "cell_type": "markdown",
   "id": "1faf9a99",
   "metadata": {},
   "source": [
    "#### Milk"
   ]
  },
  {
   "cell_type": "code",
   "execution_count": 10,
   "id": "fbc7e2d2",
   "metadata": {},
   "outputs": [],
   "source": [
    "df_milk_3 = df[(df['productTreat'].isin(['T100A', 'T150A', 'T999A'])) | (df['productCode'].str.contains('A02L.*')) | (df['productCode'] == 'A02MA')]\n",
    "df_milk_3.to_pickle('../data/merged/milk_3.pkl')"
   ]
  }
 ],
 "metadata": {
  "kernelspec": {
   "display_name": "basic",
   "language": "python",
   "name": "python3"
  },
  "language_info": {
   "codemirror_mode": {
    "name": "ipython",
    "version": 3
   },
   "file_extension": ".py",
   "mimetype": "text/x-python",
   "name": "python",
   "nbconvert_exporter": "python",
   "pygments_lexer": "ipython3",
   "version": "3.12.11"
  }
 },
 "nbformat": 4,
 "nbformat_minor": 5
}
